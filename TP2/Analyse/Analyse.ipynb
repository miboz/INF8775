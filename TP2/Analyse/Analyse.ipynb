{
 "cells": [
  {
   "cell_type": "code",
   "execution_count": 21,
   "outputs": [],
   "source": [
    "import subprocess\n",
    "from tqdm import tqdm\n",
    "import pandas as pd\n",
    "import matplotlib.pyplot as plt\n",
    "\n",
    "PATH_TO_INSTANCES = '../instances'\n",
    "NB_SEEDS = 10"
   ],
   "metadata": {
    "collapsed": false,
    "pycharm": {
     "name": "#%%\n"
    }
   }
  },
  {
   "cell_type": "code",
   "execution_count": 58,
   "outputs": [],
   "source": [
    "def run_file(nb_nodes=110, seed=0, algo='glouton'):\n",
    "    exe = subprocess.run(['TP2.exe', '-e', f'{PATH_TO_INSTANCES}/{nb_nodes}_{seed}', '-a', algo, '-t'],\n",
    "                     capture_output=True)\n",
    "    if exe.returncode != 0:\n",
    "        print(exe.stderr)\n",
    "        raise Exception('TP2.exe failed')\n",
    "    return float(exe.stdout.decode('utf-8'))\n",
    "\n",
    "def run_algo(computed_times, df, algo, max_nb_nodes):\n",
    "    for nb_nodes in tqdm(range(2, max_nb_nodes + 1)):\n",
    "        for seed in range(NB_SEEDS):\n",
    "            if (nb_nodes, seed, algo) not in computed_times:\n",
    "                df.loc[df.shape[0]] = [nb_nodes, seed, algo, run_file(nb_nodes, seed, algo)]\n",
    "\n",
    "def init():\n",
    "    df = pd.read_csv('results.csv')\n",
    "    computed_times = set()\n",
    "    for index, row in df.iterrows():\n",
    "        computed_times.add((row['nb_nodes'], row['seed'], row['algo']))\n",
    "    return df, computed_times"
   ],
   "metadata": {
    "collapsed": false,
    "pycharm": {
     "name": "#%%\n"
    }
   }
  },
  {
   "cell_type": "code",
   "execution_count": 59,
   "outputs": [
    {
     "name": "stderr",
     "output_type": "stream",
     "text": [
      "100%|██████████| 66/66 [27:44<00:00, 25.22s/it] \n"
     ]
    }
   ],
   "source": [
    "df, computed_times = init()\n",
    "run_algo(computed_times, df, 'branch_bound', 67)"
   ],
   "metadata": {
    "collapsed": false,
    "pycharm": {
     "name": "#%%\n"
    }
   }
  },
  {
   "cell_type": "code",
   "execution_count": 73,
   "outputs": [],
   "source": [
    "df.to_csv('results.csv', index=False)\n",
    "\n"
   ],
   "metadata": {
    "collapsed": false,
    "pycharm": {
     "name": "#%%\n"
    }
   }
  },
  {
   "cell_type": "markdown",
   "source": [
    "tabu: 2-386\n",
    "glouton: 2-(1000)\n",
    "branch_bound: 2-68"
   ],
   "metadata": {
    "collapsed": false
   }
  },
  {
   "cell_type": "code",
   "execution_count": 40,
   "outputs": [],
   "source": [
    "def plot_cv_per_nb_nodes(df, algo):\n",
    "    df_algo = df[df['algo'] == algo]\n",
    "    std = df_algo.groupby('nb_nodes')['time'].std()\n",
    "    mean = df_algo.groupby('nb_nodes')['time'].mean()\n",
    "    cv = [s/m for s, m in zip(std, mean)]\n",
    "    plt.plot(std.index, cv)\n",
    "    plt.xlabel('nb_nodes')\n",
    "    plt.ylabel('cv')\n",
    "    plt.show()\n",
    "\n",
    "def plot_std_per_nb_nodes(df, algo):\n",
    "    df_algo = df[df['algo'] == algo]\n",
    "    std = df_algo.groupby('nb_nodes')['time'].std()\n",
    "    plt.plot(std.index, std.values)\n",
    "    plt.xlabel('nb_nodes')\n",
    "    plt.ylabel('std')\n",
    "    plt.show()\n",
    "\n",
    "def plot_mean_per_nb_nodes(df, algo):\n",
    "    df_algo = df[df['algo'] == algo]\n",
    "    mean = df_algo.groupby('nb_nodes')['time'].mean()\n",
    "    plt.plot(mean.index, mean.values)\n",
    "    plt.xlabel('nb_nodes')\n",
    "    plt.ylabel('mean')\n",
    "    plt.show()"
   ],
   "metadata": {
    "collapsed": false,
    "pycharm": {
     "name": "#%%\n"
    }
   }
  },
  {
   "cell_type": "code",
   "execution_count": 45,
   "outputs": [
    {
     "data": {
      "text/plain": "<Figure size 432x288 with 1 Axes>",
      "image/png": "[encoded data removed]"
     },
     "metadata": {
      "needs_background": "light"
     },
     "output_type": "display_data"
    }
   ],
   "source": [
    "df = pd.read_csv('results.csv')\n",
    "# plot_std_per_nb_nodes(df, 'glouton')\n",
    "# plot_cv_per_nb_nodes(df, 'glouton')\n",
    "plot_mean_per_nb_nodes(df, 'tabu')\n"
   ],
   "metadata": {
    "collapsed": false,
    "pycharm": {
     "name": "#%%\n"
    }
   }
  },
  {
   "cell_type": "code",
   "execution_count": 81,
   "outputs": [
    {
     "data": {
      "text/plain": "<Figure size 432x288 with 1 Axes>",
      "image/png": "[encoded data removed]"
     },
     "metadata": {
      "needs_background": "light"
     },
     "output_type": "display_data"
    }
   ],
   "source": [
    "plot_mean_per_nb_nodes(df, 'branch_bound')"
   ],
   "metadata": {
    "collapsed": false,
    "pycharm": {
     "name": "#%%\n"
    }
   }
  },
  {
   "cell_type": "code",
   "execution_count": 70,
   "outputs": [],
   "source": [],
   "metadata": {
    "collapsed": false,
    "pycharm": {
     "name": "#%%\n"
    }
   }
  }
 ],
 "metadata": {
  "kernelspec": {
   "display_name": "Python 3",
   "language": "python",
   "name": "python3"
  },
  "language_info": {
   "codemirror_mode": {
    "name": "ipython",
    "version": 2
   },
   "file_extension": ".py",
   "mimetype": "text/x-python",
   "name": "python",
   "nbconvert_exporter": "python",
   "pygments_lexer": "ipython2",
   "version": "2.7.6"
  }
 },
 "nbformat": 4,
 "nbformat_minor": 0
}
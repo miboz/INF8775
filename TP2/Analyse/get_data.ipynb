{
 "cells": [
  {
   "cell_type": "code",
   "execution_count": 14,
   "outputs": [],
   "source": [
    "import subprocess\n",
    "from tqdm import tqdm\n",
    "import pandas as pd\n",
    "import matplotlib.pyplot as plt\n",
    "\n",
    "PATH_TO_INSTANCES = 'C:/Users/milen/Desktop/instances'\n",
    "NB_SEEDS = 10"
   ],
   "metadata": {
    "collapsed": false,
    "pycharm": {
     "name": "#%%\n"
    }
   }
  },
  {
   "cell_type": "code",
   "execution_count": 87,
   "metadata": {
    "collapsed": true
   },
   "outputs": [],
   "source": [
    "def run_file(nb_nodes, seed, algo):\n",
    "    exe = subprocess.run(['TP2.exe', '-e', f'{PATH_TO_INSTANCES}/{nb_nodes}_{seed}', '-a', algo, '-p'],\n",
    "                         capture_output=True)\n",
    "    if exe.returncode != 0:\n",
    "        print(exe.stderr)\n",
    "        raise Exception('TP2.exe failed')\n",
    "    out = exe.stdout.decode('utf-8')\n",
    "    return int(out[:out.find('\\n')])\n",
    "\n",
    "def run_algo(df, algo):\n",
    "    df_algo = df[(df['algo'] == algo) & (df['ans'] == 0)]\n",
    "    for index, row in tqdm(df_algo.iterrows()):\n",
    "        df.iat[index, 4] = run_file(row['nb_nodes'], row['seed'], row['algo'])"
   ]
  },
  {
   "cell_type": "code",
   "execution_count": 88,
   "outputs": [],
   "source": [
    "df = pd.read_csv('results.csv')"
   ],
   "metadata": {
    "collapsed": false,
    "pycharm": {
     "name": "#%%\n"
    }
   }
  },
  {
   "cell_type": "code",
   "execution_count": 89,
   "outputs": [
    {
     "name": "stderr",
     "output_type": "stream",
     "text": [
      "9985it [3:19:59,  1.20s/it]\n"
     ]
    }
   ],
   "source": [
    "run_algo(df, 'glouton')"
   ],
   "metadata": {
    "collapsed": false,
    "pycharm": {
     "name": "#%%\n"
    }
   }
  },
  {
   "cell_type": "code",
   "execution_count": 90,
   "outputs": [],
   "source": [
    "df.to_csv('results.csv', index=False)"
   ],
   "metadata": {
    "collapsed": false,
    "pycharm": {
     "name": "#%%\n"
    }
   }
  },
  {
   "cell_type": "code",
   "execution_count": 91,
   "outputs": [
    {
     "name": "stderr",
     "output_type": "stream",
     "text": [
      "660it [25:46,  2.34s/it]\n"
     ]
    }
   ],
   "source": [
    "run_algo(df, 'branch_bound')"
   ],
   "metadata": {
    "collapsed": false,
    "pycharm": {
     "name": "#%%\n"
    }
   }
  },
  {
   "cell_type": "code",
   "execution_count": 92,
   "outputs": [],
   "source": [
    "df.to_csv('results.csv', index=False)"
   ],
   "metadata": {
    "collapsed": false,
    "pycharm": {
     "name": "#%%\n"
    }
   }
  },
  {
   "cell_type": "code",
   "execution_count": 93,
   "outputs": [
    {
     "name": "stderr",
     "output_type": "stream",
     "text": [
      "3840it [17:14:16, 16.16s/it]\n"
     ]
    }
   ],
   "source": [
    "run_algo(df, 'tabu')"
   ],
   "metadata": {
    "collapsed": false,
    "pycharm": {
     "name": "#%%\n"
    }
   }
  },
  {
   "cell_type": "code",
   "execution_count": 94,
   "outputs": [],
   "source": [
    "df.to_csv('results.csv', index=False)"
   ],
   "metadata": {
    "collapsed": false,
    "pycharm": {
     "name": "#%%\n"
    }
   }
  }
 ],
 "metadata": {
  "kernelspec": {
   "display_name": "Python 3",
   "language": "python",
   "name": "python3"
  },
  "language_info": {
   "codemirror_mode": {
    "name": "ipython",
    "version": 2
   },
   "file_extension": ".py",
   "mimetype": "text/x-python",
   "name": "python",
   "nbconvert_exporter": "python",
   "pygments_lexer": "ipython2",
   "version": "2.7.6"
  }
 },
 "nbformat": 4,
 "nbformat_minor": 0
}
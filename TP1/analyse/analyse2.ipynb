{
 "cells": [
  {
   "cell_type": "code",
   "execution_count": 15,
   "metadata": {
    "collapsed": true
   },
   "outputs": [],
   "source": [
    "import itertools\n",
    "import subprocess\n",
    "import pandas as pd\n",
    "from tqdm import tqdm\n",
    "import numpy as np\n",
    "\n",
    "exp = range(1, 11+1)\n",
    "algos = ['conv', 'strassenSeuil', 'strassen']\n",
    "n = 7\n",
    "\n",
    "base_path = '../ex/s1-t11-n7-r1'"
   ]
  },
  {
   "cell_type": "code",
   "execution_count": 16,
   "outputs": [],
   "source": [
    "def get_time(path1, path2, algo):\n",
    "    o = subprocess.run(['INF8775_tp1', path1, path2, algo, 't'], shell=True, capture_output=True)\n",
    "    return float(str(o.stdout)[2:-1])"
   ],
   "metadata": {
    "collapsed": false,
    "pycharm": {
     "name": "#%%\n"
    }
   }
  },
  {
   "cell_type": "code",
   "execution_count": 17,
   "outputs": [],
   "source": [
    "df = pd.DataFrame(columns=['size', 'avg_time', 'algo'])"
   ],
   "metadata": {
    "collapsed": false,
    "pycharm": {
     "name": "#%%\n"
    }
   }
  },
  {
   "cell_type": "code",
   "execution_count": 18,
   "outputs": [
    {
     "name": "stdout",
     "output_type": "stream",
     "text": [
      "1\n"
     ]
    },
    {
     "name": "stderr",
     "output_type": "stream",
     "text": [
      "100%|██████████| 21/21 [00:00<00:00, 35.12it/s]\n",
      "100%|██████████| 21/21 [00:00<00:00, 34.78it/s]\n",
      "100%|██████████| 21/21 [00:00<00:00, 33.15it/s]\n"
     ]
    },
    {
     "name": "stdout",
     "output_type": "stream",
     "text": [
      "2\n"
     ]
    },
    {
     "name": "stderr",
     "output_type": "stream",
     "text": [
      "100%|██████████| 21/21 [00:00<00:00, 35.31it/s]\n",
      "100%|██████████| 21/21 [00:00<00:00, 34.94it/s]\n",
      "100%|██████████| 21/21 [00:00<00:00, 31.56it/s]\n"
     ]
    },
    {
     "name": "stdout",
     "output_type": "stream",
     "text": [
      "3\n"
     ]
    },
    {
     "name": "stderr",
     "output_type": "stream",
     "text": [
      "100%|██████████| 21/21 [00:00<00:00, 35.00it/s]\n",
      "100%|██████████| 21/21 [00:00<00:00, 34.82it/s]\n",
      "100%|██████████| 21/21 [00:00<00:00, 30.26it/s]\n"
     ]
    },
    {
     "name": "stdout",
     "output_type": "stream",
     "text": [
      "4\n"
     ]
    },
    {
     "name": "stderr",
     "output_type": "stream",
     "text": [
      "100%|██████████| 21/21 [00:00<00:00, 28.75it/s]\n",
      "100%|██████████| 21/21 [00:00<00:00, 23.56it/s]\n",
      "100%|██████████| 21/21 [00:00<00:00, 25.07it/s]\n"
     ]
    },
    {
     "name": "stdout",
     "output_type": "stream",
     "text": [
      "5\n"
     ]
    },
    {
     "name": "stderr",
     "output_type": "stream",
     "text": [
      "100%|██████████| 21/21 [00:00<00:00, 27.82it/s]\n",
      "100%|██████████| 21/21 [00:00<00:00, 32.75it/s]\n",
      "100%|██████████| 21/21 [00:01<00:00, 12.26it/s]\n"
     ]
    },
    {
     "name": "stdout",
     "output_type": "stream",
     "text": [
      "6\n"
     ]
    },
    {
     "name": "stderr",
     "output_type": "stream",
     "text": [
      "100%|██████████| 21/21 [00:00<00:00, 25.45it/s]\n",
      "100%|██████████| 21/21 [00:00<00:00, 26.82it/s]\n",
      "100%|██████████| 21/21 [00:07<00:00,  2.65it/s]\n"
     ]
    },
    {
     "name": "stdout",
     "output_type": "stream",
     "text": [
      "7\n"
     ]
    },
    {
     "name": "stderr",
     "output_type": "stream",
     "text": [
      "100%|██████████| 21/21 [00:01<00:00, 16.21it/s]\n",
      "100%|██████████| 21/21 [00:01<00:00, 14.59it/s]\n",
      "100%|██████████| 21/21 [00:48<00:00,  2.31s/it]\n"
     ]
    },
    {
     "name": "stdout",
     "output_type": "stream",
     "text": [
      "8\n"
     ]
    },
    {
     "name": "stderr",
     "output_type": "stream",
     "text": [
      "100%|██████████| 21/21 [00:04<00:00,  5.06it/s]\n",
      "100%|██████████| 21/21 [00:05<00:00,  3.67it/s]\n",
      "100%|██████████| 21/21 [05:29<00:00, 15.71s/it]\n"
     ]
    }
   ],
   "source": [
    "for e in exp[:8]:\n",
    "    print(e)\n",
    "    for algo in algos:\n",
    "        size = pow(2, e)\n",
    "        total_time = 0\n",
    "        combinations = list(itertools.combinations(range(n), 2))\n",
    "        for n1, n2 in tqdm(combinations):\n",
    "            p1 = f'{base_path}/ex{e}_{n1}'\n",
    "            p2 = f'{base_path}/ex{e}_{n2}'\n",
    "            total_time += get_time(p1, p2, algo)\n",
    "        avg_time = total_time / len(combinations)\n",
    "        df = df.append({'size': size, 'avg_time': avg_time, 'algo': algo}, ignore_index=True)\n"
   ],
   "metadata": {
    "collapsed": false,
    "pycharm": {
     "name": "#%%\n"
    }
   }
  },
  {
   "cell_type": "code",
   "execution_count": 2,
   "outputs": [],
   "source": [
    "# df"
   ],
   "metadata": {
    "collapsed": false,
    "pycharm": {
     "name": "#%%\n"
    }
   }
  },
  {
   "cell_type": "code",
   "execution_count": 19,
   "outputs": [],
   "source": [
    "# idx = np.where(\n",
    "#     (df['size'] == 256)\n",
    "#     & (df['old_code'] == False)\n",
    "# )\n",
    "# df.loc[idx]"
   ],
   "metadata": {
    "collapsed": false,
    "pycharm": {
     "name": "#%%\n"
    }
   }
  },
  {
   "cell_type": "code",
   "execution_count": 20,
   "outputs": [],
   "source": [
    "df.to_csv('new_data.csv', index=False)"
   ],
   "metadata": {
    "collapsed": false,
    "pycharm": {
     "name": "#%%\n"
    }
   }
  },
  {
   "cell_type": "code",
   "execution_count": 24,
   "outputs": [
    {
     "name": "stdout",
     "output_type": "stream",
     "text": [
      "[<matplotlib.lines.Line2D object at 0x00000138884A16D0>]\n"
     ]
    },
    {
     "data": {
      "text/plain": "<Figure size 432x288 with 1 Axes>",
      "image/png": "[encoded data removed]"
     },
     "metadata": {
      "needs_background": "light"
     },
     "output_type": "display_data"
    }
   ],
   "source": [
    "from matplotlib import pyplot\n",
    "df_c = df[df['algo'] == 'conv']\n",
    "print(pyplot.plot(df_c['size'], df_c['avg_time']))"
   ],
   "metadata": {
    "collapsed": false,
    "pycharm": {
     "name": "#%%\n"
    }
   }
  }
 ],
 "metadata": {
  "kernelspec": {
   "display_name": "Python 3",
   "language": "python",
   "name": "python3"
  },
  "language_info": {
   "codemirror_mode": {
    "name": "ipython",
    "version": 2
   },
   "file_extension": ".py",
   "mimetype": "text/x-python",
   "name": "python",
   "nbconvert_exporter": "python",
   "pygments_lexer": "ipython2",
   "version": "2.7.6"
  }
 },
 "nbformat": 4,
 "nbformat_minor": 0
}